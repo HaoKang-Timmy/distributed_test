{
 "cells": [
  {
   "cell_type": "code",
   "execution_count": null,
   "id": "37df3912-f3dc-47ed-85d3-fa429b357bd4",
   "metadata": {},
   "outputs": [],
   "source": [
    "import os\n",
    "\n",
    "import torch\n",
    "import torch.nn as nn\n",
    "import torch.distributed.rpc as rpc\n",
    "import torch.multiprocessing as mp\n",
    "import torch.nn.functional as F\n",
    "import torch.distributed as dist\n",
    "import torch.optim as optim\n",
    "from torch import autograd"
   ]
  },
  {
   "cell_type": "markdown",
   "id": "d19f3994-1379-4c7d-9650-c6f8c4ef30c1",
   "metadata": {},
   "source": [
    "add denpendecies"
   ]
  },
  {
   "cell_type": "code",
   "execution_count": null,
   "id": "151d548d-c742-429e-a09b-4b6de91af91f",
   "metadata": {},
   "outputs": [],
   "source": [
    "os.environ['MASTER_ADDR'] = '127.0.0.1'\n",
    "os.environ['MASTER_PORT'] = '29503'"
   ]
  },
  {
   "cell_type": "markdown",
   "id": "ec19f954-5da2-47e4-8d13-6962f0337a64",
   "metadata": {},
   "source": [
    "set ports"
   ]
  },
  {
   "cell_type": "code",
   "execution_count": null,
   "id": "23263592-6f38-47a5-ae68-98937c3ee790",
   "metadata": {},
   "outputs": [],
   "source": [
    "rank = 0\n",
    "world_size = 2\n",
    "dist.init_process_group(backend='gloo', rank=rank, world_size=2)"
   ]
  },
  {
   "cell_type": "markdown",
   "id": "2eab39e7-d483-40da-9f08-e52eae6685b2",
   "metadata": {},
   "source": [
    "set process groups"
   ]
  },
  {
   "cell_type": "code",
   "execution_count": null,
   "id": "1cb3a787-dc63-4daa-aa05-493d5071530f",
   "metadata": {},
   "outputs": [],
   "source": [
    "class sendtoclient(autograd.Function):\n",
    "    @staticmethod\n",
    "    def forward(ctx,input):\n",
    "        return input*1.0\n",
    "    @staticmethod\n",
    "    def backward(ctx,grad_outputs):\n",
    "        print(\"backward,send back\",grad_outputs.shape)\n",
    "        dist.send(grad_outputs,1)\n",
    "class NetServer(nn.Module):\n",
    "    def __init__(self):\n",
    "        super(NetServer, self).__init__()\n",
    "        self.fc1 = nn.Linear(128*3*3, 625)\n",
    "        self.fc2 = nn.Linear(625, 10)\n",
    "\n",
    "    def forward(self, x):\n",
    "        x = F.relu(self.fc1(x))\n",
    "        x = self.fc2(x)\n",
    "\n",
    "        return x"
   ]
  },
  {
   "cell_type": "markdown",
   "id": "88e1f731-85b4-46b6-9a81-552ab82edac7",
   "metadata": {},
   "source": [
    "build server networks"
   ]
  },
  {
   "cell_type": "code",
   "execution_count": null,
   "id": "9ce08f11-cd91-42d2-95cf-94d140a5ec78",
   "metadata": {},
   "outputs": [],
   "source": [
    "net = NetServer()\n",
    "learning_rate = 0.01\n",
    "momentum = 0.5\n",
    "optimizer = optim.SGD(net.parameters(),\n",
    "                      lr=learning_rate, momentum=momentum)\n",
    "print(\"waiting for tasks\")"
   ]
  },
  {
   "cell_type": "markdown",
   "id": "5cd094ed-3b55-429b-a0ff-958204b92501",
   "metadata": {},
   "source": [
    "initialize"
   ]
  },
  {
   "cell_type": "code",
   "execution_count": null,
   "id": "16ce59b4-ee96-4b20-813b-26cae8d6fd17",
   "metadata": {},
   "outputs": [],
   "source": [
    "while True:\n",
    "    flag = torch.tensor(1)\n",
    "    dist.recv(flag,1)\n",
    "    print(\"for or back receive\",flag)\n",
    "    if flag == 0:\n",
    "        \n",
    "        input_data = torch.rand([128,1152]).requires_grad_()\n",
    "        input_data = sendtoclient.apply(input_data)\n",
    "        dist.recv(input_data,1)\n",
    "        print(\"forward,receive\",input_data.shape)\n",
    "        out = torch.tensor(1.0)\n",
    "        out = out.requires_grad_()\n",
    "        out = net(input_data)\n",
    "        \n",
    "        #print(out)\n",
    "        dist.send(out, 1)\n",
    "        \n",
    "    if flag == 1:\n",
    "        \n",
    "        grad_outputs = torch.rand([128,10])\n",
    "        dist.recv(grad_outputs,1)\n",
    "        print(\"backward,receive\",grad_outputs.shape)\n",
    "        print(grad_outputs.shape)\n",
    "        grad_outputs = grad_outputs\n",
    "        optimizer.zero_grad()\n",
    "        out.backward(grad_outputs)\n",
    "        optimizer.step()\n",
    "        # dist.send(grad_i,1)"
   ]
  }
 ],
 "metadata": {
  "kernelspec": {
   "display_name": "Python 3 (ipykernel)",
   "language": "python",
   "name": "python3"
  },
  "language_info": {
   "codemirror_mode": {
    "name": "ipython",
    "version": 3
   },
   "file_extension": ".py",
   "mimetype": "text/x-python",
   "name": "python",
   "nbconvert_exporter": "python",
   "pygments_lexer": "ipython3",
   "version": "3.7.11"
  }
 },
 "nbformat": 4,
 "nbformat_minor": 5
}
