{
 "cells": [
  {
   "cell_type": "code",
   "execution_count": null,
   "id": "9b7cb884-71e3-495c-ba2b-0fdc39e336f1",
   "metadata": {},
   "outputs": [],
   "source": [
    "import time\n",
    "import zmq\n",
    "import io\n",
    "import torch.optim as optim\n",
    "import torch\n",
    "import torch as th\n",
    "import torch.nn as nn\n",
    "import torch.nn.functional as F\n",
    "from buffer import serialize, de_serialize"
   ]
  },
  {
   "cell_type": "markdown",
   "id": "72eae4fa-e759-455d-aeb0-9adfd410709e",
   "metadata": {},
   "source": [
    "import dependencies"
   ]
  },
  {
   "cell_type": "code",
   "execution_count": null,
   "id": "32b54190-4c04-4fa6-8f97-905b62816d5a",
   "metadata": {},
   "outputs": [],
   "source": [
    "context = zmq.Context()\n",
    "socket = context.socket(zmq.REP)\n",
    "socket.bind(\"tcp://*:5555\")\n",
    "print(\"Initialization finished\")"
   ]
  },
  {
   "cell_type": "markdown",
   "id": "cb2d435d-daeb-4ef8-97c2-f292660bc61d",
   "metadata": {},
   "source": [
    "establish server"
   ]
  },
  {
   "cell_type": "code",
   "execution_count": null,
   "id": "2e5f1cec-c182-410e-b8f1-673d5d0a4c20",
   "metadata": {},
   "outputs": [],
   "source": [
    "class NetServer(nn.Module):\n",
    "    def __init__(self):\n",
    "        super(NetServer, self).__init__()\n",
    "\n",
    "        self.fc1 = nn.Linear(128*3*3, 625)\n",
    "        self.fc2 = nn.Linear(625, 10)\n",
    "\n",
    "    def forward(self, x):\n",
    "\n",
    "        x = F.relu(self.fc1(x))\n",
    "        x = self.fc2(x)\n",
    "\n",
    "        return x"
   ]
  },
  {
   "cell_type": "code",
   "execution_count": null,
   "id": "2dfd2c4b-5ad2-4b7c-b3b8-0e144b21e506",
   "metadata": {},
   "outputs": [],
   "source": [
    "net_server = NetServer()\n",
    "train_batch_size = 128\n",
    "test_batch_size = 64\n",
    "learning_rate = 0.01\n",
    "momentum = 0.5\n",
    "num_epoches = 10\n",
    "optimizer = optim.SGD(net_server.parameters(),\n",
    "                      lr=learning_rate, momentum=momentum)"
   ]
  },
  {
   "cell_type": "code",
   "execution_count": null,
   "id": "f5c0024b-56a0-4f3c-be26-c2ecc23518dd",
   "metadata": {},
   "outputs": [],
   "source": [
    "while True:\n",
    "    #  Wait for next request from client\n",
    "    message = socket.recv()\n",
    "    info = th.load(io.BytesIO(message))\n",
    "    if info['flag'] == 0:\n",
    "        input_data = info['data']\n",
    "        print(\"[begin] Received request: \", input_data.shape)\n",
    "        out = net_server(input_data)\n",
    "        #print(\"out\", out)\n",
    "        socket.send(serialize(out))\n",
    "        print(\"[begin] Send output: \",  out.shape)\n",
    "    elif info['flag'] == 1:\n",
    "        grad_outputs = info['data']\n",
    "        #print(\"[end] Received grad_output: \", grad_outputs.shape)\n",
    "        print(\"[inside] grad_coming\", grad_outputs.shape)\n",
    "        optimizer.zero_grad()\n",
    "        grad_i = th.autograd.grad(\n",
    "            out, input_data, grad_outputs=grad_outputs, retain_graph=True)[0]\n",
    "        grad2 = out.backward(grad_outputs)\n",
    "        print(\"sthabout\", grad2)\n",
    "        optimizer.step()\n",
    "        socket.send(serialize(grad_i))\n",
    "        print(\"[end] Send dy/dx: \", grad_i.shape)\n",
    "\n",
    "    elif info['flag'] == -1:\n",
    "        socket.send(b'finish')\n",
    "        break"
   ]
  }
 ],
 "metadata": {
  "kernelspec": {
   "display_name": "Python 3 (ipykernel)",
   "language": "python",
   "name": "python3"
  },
  "language_info": {
   "codemirror_mode": {
    "name": "ipython",
    "version": 3
   },
   "file_extension": ".py",
   "mimetype": "text/x-python",
   "name": "python",
   "nbconvert_exporter": "python",
   "pygments_lexer": "ipython3",
   "version": "3.7.11"
  }
 },
 "nbformat": 4,
 "nbformat_minor": 5
}
